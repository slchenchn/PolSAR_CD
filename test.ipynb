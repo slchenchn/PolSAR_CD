{
 "metadata": {
  "language_info": {
   "codemirror_mode": {
    "name": "ipython",
    "version": 3
   },
   "file_extension": ".py",
   "mimetype": "text/x-python",
   "name": "python",
   "nbconvert_exporter": "python",
   "pygments_lexer": "ipython3",
   "version": "3.7.6-final"
  },
  "orig_nbformat": 2,
  "kernelspec": {
   "name": "python3",
   "display_name": "Python 3",
   "language": "python"
  }
 },
 "nbformat": 4,
 "nbformat_minor": 2,
 "cells": [
  {
   "cell_type": "code",
   "execution_count": 1,
   "metadata": {},
   "outputs": [],
   "source": [
    "import cv2\n",
    "import os\n",
    "import numpy as np\n",
    "import os.path as osp\n",
    "import matplotlib.pyplot as plt\n",
    "import torch\n",
    "import torch.nn as nn\n",
    "from torch.nn import Module\n",
    "import torch.nn.functional as F\n",
    "from torch.nn.modules.padding import ReplicationPad2d\n",
    "import glob\n",
    "# from tensorboardX import SummaryWriter\n",
    "from torch.utils.tensorboard import SummaryWriter\n",
    "import re\n",
    "import mylib.polSAR_utils as psr\n",
    "from mylib import types\n",
    "import torchvision\n",
    "from ptsemseg.models import my_resnet\n",
    "import yaml\n",
    "from mylib import types\n",
    "from typing import Optional\n",
    "from torch import Tensor"
   ]
  },
  {
   "cell_type": "code",
   "execution_count": 3,
   "metadata": {},
   "outputs": [
    {
     "output_type": "execute_result",
     "data": {
      "text/plain": [
       "(tensor([[[[[1.+2.j, 3.+4.j]]]]]), tensor([[[[[2.2361, 5.0000]]]]]))"
      ]
     },
     "metadata": {},
     "execution_count": 3
    }
   ],
   "source": [
    "a = torch.tensor([1+2j, 3+4j]).view(1,1,1,1,2)\n",
    "a, a.abs()"
   ]
  },
  {
   "cell_type": "code",
   "execution_count": 13,
   "metadata": {},
   "outputs": [
    {
     "output_type": "execute_result",
     "data": {
      "text/plain": [
       "array([[[[[[[ 0.        ,  0.        ,  0.78539816,  1.57079633],\n",
       "            [ 3.14159265, -2.35619449, -1.57079633, -0.78539816]]]]]]])"
      ]
     },
     "metadata": {},
     "execution_count": 13
    }
   ],
   "source": [
    "np.angle(np.array([100,1, 1+1j, 10000j, -1, -1-1j, -1j, 3-3j]).reshape(1,1,1,1,1,2,-1))"
   ]
  },
  {
   "cell_type": "code",
   "execution_count": 18,
   "metadata": {},
   "outputs": [],
   "source": [
    "\n",
    "class ComplexUpsample(Module):\n",
    "    def __init__(self, size = None, scale_factor = None,\n",
    "                 mode: str = 'nearest', align_corners: Optional[bool] = None) -> None:\n",
    "        super().__init__()\n",
    "        self.up = nn.Upsample(size=size, scale_factor=scale_factor, mode=mode, align_corners=align_corners)\n",
    "        \n",
    "    def forward(self, input: Tensor) -> Tensor:\n",
    "        if 'complex' not in str(input.dtype):\n",
    "            raise ValueError('not support non-complex data')\n",
    "        real = self.up(input.real)\n",
    "        imag = self.up(input.imag)\n",
    "        return real + 1j*imag"
   ]
  },
  {
   "cell_type": "code",
   "execution_count": 20,
   "metadata": {},
   "outputs": [
    {
     "output_type": "execute_result",
     "data": {
      "text/plain": [
       "(tensor([[[[1.+8.j, 2.+6.j],\n",
       "           [3.+7.j, 4.+5.j]]]]),\n",
       " tensor([[[[1.0000+8.0000j, 1.2500+7.5000j, 1.7500+6.5000j, 2.0000+6.0000j],\n",
       "           [1.5000+7.7500j, 1.7500+7.2500j, 2.2500+6.2500j, 2.5000+5.7500j],\n",
       "           [2.5000+7.2500j, 2.7500+6.7500j, 3.2500+5.7500j, 3.5000+5.2500j],\n",
       "           [3.0000+7.0000j, 3.2500+6.5000j, 3.7500+5.5000j, 4.0000+5.0000j]]]]))"
      ]
     },
     "metadata": {},
     "execution_count": 20
    }
   ],
   "source": [
    "a = torch.tensor([[1,2],[3,4]])+1j*torch.tensor([[8,6],[7,5]]).view(1,1,2,2)\n",
    "b = ComplexUpsample(scale_factor=2, mode='bilinear')\n",
    "a,b(a)"
   ]
  },
  {
   "cell_type": "code",
   "execution_count": 16,
   "metadata": {},
   "outputs": [
    {
     "output_type": "execute_result",
     "data": {
      "text/plain": [
       "'torch.complex64'"
      ]
     },
     "metadata": {},
     "execution_count": 16
    }
   ],
   "source": [
    "str(a.dtype)"
   ]
  }
 ]
}