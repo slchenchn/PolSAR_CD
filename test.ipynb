{
 "metadata": {
  "language_info": {
   "codemirror_mode": {
    "name": "ipython",
    "version": 3
   },
   "file_extension": ".py",
   "mimetype": "text/x-python",
   "name": "python",
   "nbconvert_exporter": "python",
   "pygments_lexer": "ipython3",
   "version": "3.7.6-final"
  },
  "orig_nbformat": 2,
  "kernelspec": {
   "name": "python376jvsc74a57bd08eb2f6e763956fc64419c0b949adefb352abce8a0e6f77456a2c7d154e940ff0",
   "display_name": "Python 3.7.6 64-bit ('base': conda)"
  }
 },
 "nbformat": 4,
 "nbformat_minor": 2,
 "cells": [
  {
   "cell_type": "code",
   "execution_count": 2,
   "metadata": {},
   "outputs": [
    {
     "output_type": "error",
     "ename": "SyntaxError",
     "evalue": "invalid syntax (polSAR_utils.py, line 805)",
     "traceback": [
      "Traceback \u001b[0;36m(most recent call last)\u001b[0m:\n",
      "  File \u001b[1;32m\"/home/csl/anaconda3/lib/python3.7/site-packages/IPython/core/interactiveshell.py\"\u001b[0m, line \u001b[1;32m3331\u001b[0m, in \u001b[1;35mrun_code\u001b[0m\n    exec(code_obj, self.user_global_ns, self.user_ns)\n",
      "  File \u001b[1;32m\"<ipython-input-2-7e983f722fa6>\"\u001b[0m, line \u001b[1;32m15\u001b[0m, in \u001b[1;35m<module>\u001b[0m\n    import mylib.polSAR_utils as psr\n",
      "\u001b[0;36m  File \u001b[0;32m\"/home/csl/anaconda3/lib/python3.7/site-packages/mylib/__init__.py\"\u001b[0;36m, line \u001b[0;32m9\u001b[0;36m, in \u001b[0;35m<module>\u001b[0;36m\u001b[0m\n\u001b[0;31m    from . import polSAR_utils\u001b[0m\n",
      "\u001b[0;36m  File \u001b[0;32m\"/home/csl/anaconda3/lib/python3.7/site-packages/mylib/polSAR_utils.py\"\u001b[0;36m, line \u001b[0;32m805\u001b[0m\n\u001b[0;31m    w =\u001b[0m\n\u001b[0m        ^\u001b[0m\n\u001b[0;31mSyntaxError\u001b[0m\u001b[0;31m:\u001b[0m invalid syntax\n"
     ]
    }
   ],
   "source": [
    "import cv2\n",
    "import os\n",
    "import numpy as np\n",
    "import os.path as osp\n",
    "import matplotlib.pyplot as plt\n",
    "import torch\n",
    "import torch.nn as nn\n",
    "from torch.nn import Module\n",
    "import torch.nn.functional as F\n",
    "from torch.nn.modules.padding import ReplicationPad2d\n",
    "import glob\n",
    "# from tensorboardX import SummaryWriter\n",
    "from torch.utils.tensorboard import SummaryWriter\n",
    "import re\n",
    "import mylib.polSAR_utils as psr\n",
    "from mylib import types\n",
    "import torchvision\n",
    "from ptsemseg.models import my_resnet\n",
    "import yaml\n",
    "from mylib import types\n",
    "from typing import Optional\n",
    "from torch import Tensor"
   ]
  },
  {
   "cell_type": "code",
   "execution_count": 4,
   "metadata": {},
   "outputs": [
    {
     "output_type": "execute_result",
     "data": {
      "text/plain": [
       "(array([[[ 0,  1,  2,  3],\n",
       "         [ 4,  5,  6,  7],\n",
       "         [ 8,  9, 10, 11]],\n",
       " \n",
       "        [[12, 13, 14, 15],\n",
       "         [16, 17, 18, 19],\n",
       "         [20, 21, 22, 23]]]),\n",
       " array([[[25, 26, 27, 28],\n",
       "         [29, 30, 31, 32],\n",
       "         [33, 34, 35, 36]],\n",
       " \n",
       "        [[37, 38, 39, 40],\n",
       "         [41, 42, 43, 44],\n",
       "         [45, 46, 47, 48]]]))"
      ]
     },
     "metadata": {},
     "execution_count": 4
    }
   ],
   "source": [
    "a = np.arange(24).reshape(2, 3, 4)\n",
    "b = np.arange(25, 49).reshape(2, 3, 4)\n",
    "a, b"
   ]
  },
  {
   "cell_type": "code",
   "execution_count": 10,
   "metadata": {},
   "outputs": [
    {
     "output_type": "execute_result",
     "data": {
      "text/plain": [
       "(2, 2, 4)"
      ]
     },
     "metadata": {},
     "execution_count": 10
    }
   ],
   "source": [
    "c = np.einsum('ijk, abc->iak', a, b)\n",
    "c.shape"
   ]
  },
  {
   "cell_type": "code",
   "execution_count": 27,
   "metadata": {},
   "outputs": [
    {
     "output_type": "execute_result",
     "data": {
      "text/plain": [
       "5"
      ]
     },
     "metadata": {},
     "execution_count": 27
    }
   ],
   "source": [
    "c = a()\n",
    "c._a__b\n",
    "setattr(c, '_a__b', 5)\n",
    "c._a__b"
   ]
  },
  {
   "cell_type": "code",
   "execution_count": 3,
   "metadata": {},
   "outputs": [
    {
     "output_type": "execute_result",
     "data": {
      "text/plain": [
       "(tensor([[[[[1.+2.j, 3.+4.j]]]]]), tensor([[[[[2.2361, 5.0000]]]]]))"
      ]
     },
     "metadata": {},
     "execution_count": 3
    }
   ],
   "source": [
    "a = torch.tensor([1+2j, 3+4j]).view(1,1,1,1,2)\n",
    "a, a.abs()"
   ]
  },
  {
   "cell_type": "code",
   "execution_count": 13,
   "metadata": {},
   "outputs": [
    {
     "output_type": "execute_result",
     "data": {
      "text/plain": [
       "array([[[[[[[ 0.        ,  0.        ,  0.78539816,  1.57079633],\n",
       "            [ 3.14159265, -2.35619449, -1.57079633, -0.78539816]]]]]]])"
      ]
     },
     "metadata": {},
     "execution_count": 13
    }
   ],
   "source": [
    "np.angle(np.array([100,1, 1+1j, 10000j, -1, -1-1j, -1j, 3-3j]).reshape(1,1,1,1,1,2,-1))"
   ]
  },
  {
   "cell_type": "code",
   "execution_count": 18,
   "metadata": {},
   "outputs": [],
   "source": [
    "\n",
    "class ComplexUpsample(Module):\n",
    "    def __init__(self, size = None, scale_factor = None,\n",
    "                 mode: str = 'nearest', align_corners: Optional[bool] = None) -> None:\n",
    "        super().__init__()\n",
    "        self.up = nn.Upsample(size=size, scale_factor=scale_factor, mode=mode, align_corners=align_corners)\n",
    "        \n",
    "    def forward(self, input: Tensor) -> Tensor:\n",
    "        if 'complex' not in str(input.dtype):\n",
    "            raise ValueError('not support non-complex data')\n",
    "        real = self.up(input.real)\n",
    "        imag = self.up(input.imag)\n",
    "        return real + 1j*imag"
   ]
  },
  {
   "cell_type": "code",
   "execution_count": 20,
   "metadata": {},
   "outputs": [
    {
     "output_type": "execute_result",
     "data": {
      "text/plain": [
       "(tensor([[[[1.+8.j, 2.+6.j],\n",
       "           [3.+7.j, 4.+5.j]]]]),\n",
       " tensor([[[[1.0000+8.0000j, 1.2500+7.5000j, 1.7500+6.5000j, 2.0000+6.0000j],\n",
       "           [1.5000+7.7500j, 1.7500+7.2500j, 2.2500+6.2500j, 2.5000+5.7500j],\n",
       "           [2.5000+7.2500j, 2.7500+6.7500j, 3.2500+5.7500j, 3.5000+5.2500j],\n",
       "           [3.0000+7.0000j, 3.2500+6.5000j, 3.7500+5.5000j, 4.0000+5.0000j]]]]))"
      ]
     },
     "metadata": {},
     "execution_count": 20
    }
   ],
   "source": [
    "a = torch.tensor([[1,2],[3,4]])+1j*torch.tensor([[8,6],[7,5]]).view(1,1,2,2)\n",
    "b = ComplexUpsample(scale_factor=2, mode='bilinear')\n",
    "a,b(a)"
   ]
  },
  {
   "cell_type": "code",
   "execution_count": 16,
   "metadata": {},
   "outputs": [
    {
     "output_type": "execute_result",
     "data": {
      "text/plain": [
       "'torch.complex64'"
      ]
     },
     "metadata": {},
     "execution_count": 16
    }
   ],
   "source": [
    "str(a.dtype)"
   ]
  }
 ]
}